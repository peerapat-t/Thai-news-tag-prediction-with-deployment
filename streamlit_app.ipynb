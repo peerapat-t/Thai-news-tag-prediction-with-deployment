{
 "cells": [
  {
   "cell_type": "code",
   "execution_count": 31,
   "metadata": {},
   "outputs": [],
   "source": [
    "import warnings\n",
    "warnings.simplefilter(\"ignore\")"
   ]
  },
  {
   "cell_type": "code",
   "execution_count": 32,
   "metadata": {},
   "outputs": [],
   "source": [
    "import pandas as pd\n",
    "import numpy as np"
   ]
  },
  {
   "cell_type": "code",
   "execution_count": 33,
   "metadata": {},
   "outputs": [],
   "source": [
    "import re\n",
    "from pythainlp.util import normalize\n",
    "from pythainlp import thai_characters\n",
    "from pythainlp.corpus import thai_stopwords\n",
    "from pythainlp.tokenize import word_tokenize"
   ]
  },
  {
   "cell_type": "code",
   "execution_count": 34,
   "metadata": {},
   "outputs": [],
   "source": [
    "from sklearn.feature_extraction.text import TfidfVectorizer"
   ]
  },
  {
   "cell_type": "code",
   "execution_count": 35,
   "metadata": {},
   "outputs": [],
   "source": [
    "import pickle"
   ]
  },
  {
   "cell_type": "code",
   "execution_count": 36,
   "metadata": {},
   "outputs": [],
   "source": [
    "import streamlit as st"
   ]
  },
  {
   "cell_type": "markdown",
   "metadata": {},
   "source": [
    "# Clean text function"
   ]
  },
  {
   "cell_type": "code",
   "execution_count": 37,
   "metadata": {},
   "outputs": [],
   "source": [
    "def normalize_text(text):\n",
    "    return normalize(text)"
   ]
  },
  {
   "cell_type": "code",
   "execution_count": 38,
   "metadata": {},
   "outputs": [],
   "source": [
    "def remove_html_tags(text):\n",
    "    return re.sub(r'<[^>]+>', '', text)"
   ]
  },
  {
   "cell_type": "code",
   "execution_count": 39,
   "metadata": {},
   "outputs": [],
   "source": [
    "def remove_urls(text):\n",
    "    URL_PATTERN = r\"\"\"(?i)\\b((?:https?:(?:/{1,3}|[a-z0-9%])|[a-z0-9.\\-]+[.](?:com|net|org|edu|gov|mil|aero|asia|biz|cat|coop|info|int|jobs|mobi|museum|name|post|pro|tel|travel|xxx|ac|ad|ae|af|ag|ai|al|am|an|ao|aq|ar|as|at|au|aw|ax|az|ba|bb|bd|be|bf|bg|bh|bi|bj|bm|bn|bo|br|bs|bt|bv|bw|by|bz|ca|cc|cd|cf|cg|ch|ci|ck|cl|cm|cn|co|cr|cs|cu|cv|cx|cy|cz|dd|de|dj|dk|dm|do|dz|ec|ee|eg|eh|er|es|et|eu|fi|fj|fk|fm|fo|fr|ga|gb|gd|ge|gf|gg|gh|gi|gl|gm|gn|gp|gq|gr|gs|gt|gu|gw|gy|hk|hm|hn|hr|ht|hu|id|ie|il|im|in|io|iq|ir|is|it|je|jm|jo|jp|ke|kg|kh|ki|km|kn|kp|kr|kw|ky|kz|la|lb|lc|li|lk|lr|ls|lt|lu|lv|ly|ma|mc|md|me|mg|mh|mk|ml|mm|mn|mo|mp|mq|mr|ms|mt|mu|mv|mw|mx|my|mz|na|nc|ne|nf|ng|ni|nl|no|np|nr|nu|nz|om|pa|pe|pf|pg|ph|pk|pl|pm|pn|pr|ps|pt|pw|py|qa|re|ro|rs|ru|rw|sa|sb|sc|sd|se|sg|sh|si|sj|Ja|sk|sl|sm|sn|so|sr|ss|st|su|sv|sx|sy|sz|tc|td|tf|tg|th|tj|tk|tl|tm|tn|to|tp|tr|tt|tv|tw|tz|ua|ug|uk|us|uy|uz|va|vc|ve|vg|vi|vn|vu|wf|ws|ye|yt|yu|za|zm|zw)/)(?:[^\\s()<>{}\\[\\]]+|\\([^\\s()]*?\\([^\\s()]+\\)[^\\s()]*?\\)|\\([^\\s]+?\\))+(?:\\([^\\s()]*?\\([^\\s()]+\\)[^\\s()]*?\\)|\\([^\\s]+?\\)|[^\\s`!()\\[\\]{};:'\".,<>?«»“”‘’])|(?:(?<!@)[a-z0-9]+(?:[.\\-][a-z0-9]+)*[.](?:com|net|org|edu|gov|mil|aero|asia|biz|cat|coop|info|int|jobs|mobi|museum|name|post|pro|tel|travel|xxx|ac|ad|ae|af|ag|ai|al|am|an|ao|aq|ar|as|at|au|aw|ax|az|ba|bb|bd|be|bf|bg|bh|bi|bj|bm|bn|bo|br|bs|bt|bv|bw|by|bz|ca|cc|cd|cf|cg|ch|ci|ck|cl|cm|cn|co|cr|cs|cu|cv|cx|cy|cz|dd|de|dj|dk|dm|do|dz|ec|ee|eg|eh|er|es|et|eu|fi|fj|fk|fm|fo|fr|ga|gb|gd|ge|gf|gg|gh|gi|gl|gm|gn|gp|gq|gr|gs|gt|gu|gw|gy|hk|hm|hn|hr|ht|hu|id|ie|il|im|in|io|iq|ir|is|it|je|jm|jo|jp|ke|kg|kh|ki|km|kn|kp|kr|kw|ky|kz|la|lb|lc|li|lk|lr|ls|lt|lu|lv|ly|ma|mc|md|me|mg|mh|mk|ml|mm|mn|mo|mp|mq|mr|ms|mt|mu|mv|mw|mx|my|mz|na|nc|ne|nf|ng|ni|nl|no|np|nr|nu|nz|om|pa|pe|pf|pg|ph|pk|pl|pm|pn|pr|ps|pt|pw|py|qa|re|ro|rs|ru|rw|sa|sb|sc|sd|se|sg|sh|si|sj|Ja|sk|sl|sm|sn|so|sr|ss|st|su|sv|sx|sy|sz|tc|td|tf|tg|th|tj|tk|tl|tm|tn|to|tp|tr|tt|tv|tw|tz|ua|ug|uk|us|uy|uz|va|vc|ve|vg|vi|vn|vu|wf|ws|ye|yt|yu|za|zm|zw)\\b/?(?!@)))\"\"\"\n",
    "    return re.sub(URL_PATTERN, '', text)"
   ]
  },
  {
   "cell_type": "code",
   "execution_count": 40,
   "metadata": {},
   "outputs": [],
   "source": [
    "def remove_non_thai_characters(text):\n",
    "    allowed_characters = thai_characters\n",
    "    escaped_allowed_characters = re.escape(allowed_characters)\n",
    "    pattern = '[^' + escaped_allowed_characters + ']'\n",
    "    return re.sub(pattern, '', text)"
   ]
  },
  {
   "cell_type": "code",
   "execution_count": 41,
   "metadata": {},
   "outputs": [],
   "source": [
    "def remove_stopwords(text):\n",
    "    stopwords = thai_stopwords()\n",
    "    text_tokens = text.split()\n",
    "    text_tokens = [word for word in text_tokens if word not in stopwords]\n",
    "    return ''.join(text_tokens)"
   ]
  },
  {
   "cell_type": "code",
   "execution_count": 42,
   "metadata": {},
   "outputs": [],
   "source": [
    "def remove_special_characters(text):\n",
    "    pattern = r'[!@#$%^&*()\\-+=\\[\\]{};:\\'\",<.>/?\\\\|]\\n'\n",
    "    cleaned_text = re.sub(pattern, '', text)\n",
    "    return cleaned_text"
   ]
  },
  {
   "cell_type": "code",
   "execution_count": 43,
   "metadata": {},
   "outputs": [],
   "source": [
    "def remove_words_from_text(text):\n",
    "    words_to_remove = ['ประชาไท','ฯ','๑','๒','๓','๔','๕','๖','๗','๘','๙','๐']\n",
    "    for word in words_to_remove:\n",
    "        text = text.replace(word, '')\n",
    "    return text"
   ]
  },
  {
   "cell_type": "code",
   "execution_count": 44,
   "metadata": {},
   "outputs": [],
   "source": [
    "def remove_extra_spaces(text):\n",
    "    return re.sub(r'\\s+', '', text).strip()"
   ]
  },
  {
   "cell_type": "code",
   "execution_count": 45,
   "metadata": {},
   "outputs": [],
   "source": [
    "def preprocess_text(text):\n",
    "    text = normalize_text(text)\n",
    "    text = remove_html_tags(text)\n",
    "    text = remove_urls(text)\n",
    "    text = remove_non_thai_characters(text)\n",
    "    text = remove_stopwords(text)\n",
    "    text = remove_special_characters(text)\n",
    "    text = remove_words_from_text(text)\n",
    "    text = remove_extra_spaces(text)\n",
    "    return word_tokenize(text, engine='newmm')"
   ]
  },
  {
   "cell_type": "markdown",
   "metadata": {},
   "source": [
    "# Import trained model"
   ]
  },
  {
   "cell_type": "code",
   "execution_count": 46,
   "metadata": {},
   "outputs": [],
   "source": [
    "politics_vectorization_model = pickle.load(open('vectorization model pickle/politics_vectorization.pickle', 'rb'))\n",
    "human_rights_vectorization_model = pickle.load(open('vectorization model pickle/human_rights_vectorization.pickle', 'rb'))\n",
    "quality_of_life_vectorization_model = pickle.load(open('vectorization model pickle/quality_of_life_vectorization.pickle', 'rb'))\n",
    "foreign_affairs_vectorization_model = pickle.load(open('vectorization model pickle/foreign_affairs_vectorization.pickle', 'rb'))\n",
    "society_vectorization_model = pickle.load(open('vectorization model pickle/society_vectorization.pickle', 'rb'))\n",
    "environment_vectorization_model = pickle.load(open('vectorization model pickle/environment_vectorization.pickle', 'rb'))\n",
    "economy_vectorization_model = pickle.load(open('vectorization model pickle/economy_vectorization.pickle', 'rb'))\n",
    "culture_vectorization_model = pickle.load(open('vectorization model pickle/culture_vectorization.pickle', 'rb'))\n",
    "labor_vectorization_model = pickle.load(open('vectorization model pickle/labor_vectorization.pickle', 'rb'))\n",
    "security_vectorization_model = pickle.load(open('vectorization model pickle/security_vectorization.pickle', 'rb'))\n",
    "ict_vectorization_model = pickle.load(open('vectorization model pickle/ict_vectorization.pickle', 'rb'))\n",
    "education_vectorization_model = pickle.load(open('vectorization model pickle/education_vectorization.pickle', 'rb'))"
   ]
  },
  {
   "cell_type": "code",
   "execution_count": 47,
   "metadata": {},
   "outputs": [],
   "source": [
    "politics_prediction_model = pickle.load(open('prediction model pickle/politics_prediction.pickle', 'rb'))\n",
    "human_rights_prediction_model = pickle.load(open('prediction model pickle/human_rights_prediction.pickle', 'rb'))\n",
    "quality_of_life_prediction_model = pickle.load(open('prediction model pickle/quality_of_life_prediction.pickle', 'rb'))\n",
    "foreign_affairs_prediction_model = pickle.load(open('prediction model pickle/foreign_affairs_prediction.pickle', 'rb'))\n",
    "society_prediction_model = pickle.load(open('prediction model pickle/society_prediction.pickle', 'rb'))\n",
    "environment_prediction_model = pickle.load(open('prediction model pickle/environment_prediction.pickle', 'rb'))\n",
    "economy_prediction_model = pickle.load(open('prediction model pickle/economy_prediction.pickle', 'rb'))\n",
    "culture_prediction_model = pickle.load(open('prediction model pickle/culture_prediction.pickle', 'rb'))\n",
    "labor_prediction_model = pickle.load(open('prediction model pickle/labor_prediction.pickle', 'rb'))\n",
    "security_prediction_model = pickle.load(open('prediction model pickle/security_prediction.pickle', 'rb'))\n",
    "ict_prediction_model = pickle.load(open('prediction model pickle/ict_prediction.pickle', 'rb'))\n",
    "education_prediction_model = pickle.load(open('prediction model pickle/education_prediction.pickle', 'rb'))"
   ]
  },
  {
   "cell_type": "markdown",
   "metadata": {},
   "source": [
    "# Prediction function"
   ]
  },
  {
   "cell_type": "code",
   "execution_count": 51,
   "metadata": {},
   "outputs": [],
   "source": [
    "def prediction_model(title_input, body_input):\n",
    "\n",
    "    result = []\n",
    "\n",
    "    all_input = str(title_input) + str(body_input)\n",
    "\n",
    "    # Politics prediction\n",
    "    politics_vector = politics_vectorization_model.transform([all_input])\n",
    "    politics_prediction = politics_prediction_model.predict(politics_vector)\n",
    "    if politics_prediction[0] == 1:\n",
    "        result.append('politics')\n",
    "    else:\n",
    "        pass\n",
    "\n",
    "    # Human rights prediction\n",
    "    human_rights_vector = human_rights_vectorization_model.transform([all_input])\n",
    "    human_rights_prediction = human_rights_prediction_model.predict(human_rights_vector)\n",
    "    if human_rights_prediction[0] == 1:\n",
    "        result.append('human rights')\n",
    "    else:\n",
    "        pass\n",
    "\n",
    "\n",
    "    # Quality of Life prediction\n",
    "    quality_of_life_vector = quality_of_life_vectorization_model.transform([all_input])\n",
    "    quality_of_life_prediction = quality_of_life_prediction_model.predict(quality_of_life_vector)\n",
    "    if quality_of_life_prediction[0] == 1:\n",
    "        result.append('quality of life')\n",
    "    else:\n",
    "        pass\n",
    "\n",
    "    # Foreign Affairs prediction\n",
    "    foreign_affairs_vector = foreign_affairs_vectorization_model.transform([all_input])\n",
    "    foreign_affairs_prediction = foreign_affairs_prediction_model.predict(foreign_affairs_vector)\n",
    "    if foreign_affairs_prediction[0] == 1:\n",
    "        result.append('foreign affairs')\n",
    "    else:\n",
    "        pass\n",
    "\n",
    "    # Society prediction\n",
    "    society_vector = society_vectorization_model.transform([all_input])\n",
    "    society_prediction = society_prediction_model.predict(society_vector)\n",
    "    if society_prediction[0] == 1:\n",
    "        result.append('society')\n",
    "    else:\n",
    "        pass\n",
    "\n",
    "    # Environment prediction\n",
    "    environment_vector = environment_vectorization_model.transform([all_input])\n",
    "    environment_prediction = environment_prediction_model.predict(environment_vector)\n",
    "    if environment_prediction[0] == 1:\n",
    "        result.append('environment')\n",
    "    else:\n",
    "        pass\n",
    "\n",
    "    # Economy prediction\n",
    "    economy_vector = economy_vectorization_model.transform([all_input])\n",
    "    economy_prediction = economy_prediction_model.predict(economy_vector)\n",
    "    if economy_prediction[0] == 1:\n",
    "        result.append('economy')\n",
    "    else:\n",
    "        pass\n",
    "\n",
    "    # Culture prediction\n",
    "    culture_vector = culture_vectorization_model.transform([all_input])\n",
    "    culture_prediction = culture_prediction_model.predict(culture_vector)\n",
    "    if culture_prediction[0] == 1:\n",
    "        result.append('culture')\n",
    "    else:\n",
    "        pass\n",
    "\n",
    "    # Labor prediction\n",
    "    labor_vector = labor_vectorization_model.transform([all_input])\n",
    "    labor_prediction = labor_prediction_model.predict(labor_vector)\n",
    "    if labor_prediction[0] == 1:\n",
    "        result.append('labor')\n",
    "    else:\n",
    "        pass\n",
    "\n",
    "    # Security prediction\n",
    "    security_vector = security_vectorization_model.transform([all_input])\n",
    "    security_prediction = security_prediction_model.predict(security_vector)\n",
    "    if security_prediction[0] == 1:\n",
    "        result.append('security')\n",
    "    else:\n",
    "        pass\n",
    "\n",
    "    # ICT prediction\n",
    "    ict_vector = ict_vectorization_model.transform([all_input])\n",
    "    ict_prediction = ict_prediction_model.predict(ict_vector)\n",
    "    if ict_prediction[0] == 1:\n",
    "        result.append('ICT')\n",
    "    else:\n",
    "        pass\n",
    "\n",
    "    # Education prediction\n",
    "    education_vector = education_vectorization_model.transform([all_input])\n",
    "    education_prediction = education_prediction_model.predict(education_vector)\n",
    "    if education_prediction[0] == 1:\n",
    "        result.append('education')\n",
    "    else:\n",
    "        pass\n",
    "\n",
    "\n",
    "    tag_string = ''\n",
    "\n",
    "    if not result:\n",
    "        tag_string = 'No tag'\n",
    "    else:\n",
    "        tag_string = ', '.join(result)\n",
    "\n",
    "    return tag_string"
   ]
  },
  {
   "cell_type": "markdown",
   "metadata": {},
   "source": [
    "# User interface"
   ]
  },
  {
   "cell_type": "code",
   "execution_count": 49,
   "metadata": {},
   "outputs": [],
   "source": [
    "def main():\n",
    "    st.title('Thai news tag prediction')\n",
    "\n",
    "    title_input = st.text_input('News title')\n",
    "    body_input = st.text_area('News body', height=300)\n",
    "\n",
    "    tag_string = ''\n",
    "    \n",
    "    if st.button('Tag prediction !!'):\n",
    "        tag_string = prediction_model(title_input, body_input)\n",
    "        \n",
    "    st.success(tag_string)"
   ]
  },
  {
   "cell_type": "markdown",
   "metadata": {},
   "source": [
    "# Run"
   ]
  },
  {
   "cell_type": "code",
   "execution_count": 50,
   "metadata": {},
   "outputs": [
    {
     "name": "stderr",
     "output_type": "stream",
     "text": [
      "2024-02-19 00:41:56.557 \n",
      "  \u001b[33m\u001b[1mWarning:\u001b[0m to view this Streamlit app on a browser, run it with the following\n",
      "  command:\n",
      "\n",
      "    streamlit run c:\\Users\\peerapat\\anaconda3\\Lib\\site-packages\\ipykernel_launcher.py [ARGUMENTS]\n"
     ]
    }
   ],
   "source": [
    "if __name__ == '__main__':\n",
    "    main()"
   ]
  }
 ],
 "metadata": {
  "kernelspec": {
   "display_name": "base",
   "language": "python",
   "name": "python3"
  },
  "language_info": {
   "codemirror_mode": {
    "name": "ipython",
    "version": 3
   },
   "file_extension": ".py",
   "mimetype": "text/x-python",
   "name": "python",
   "nbconvert_exporter": "python",
   "pygments_lexer": "ipython3",
   "version": "3.11.5"
  }
 },
 "nbformat": 4,
 "nbformat_minor": 2
}
